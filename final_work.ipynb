{
  "metadata": {
    "kernelspec": {
      "name": "python",
      "display_name": "Python (Pyodide)",
      "language": "python"
    },
    "language_info": {
      "codemirror_mode": {
        "name": "python",
        "version": 3
      },
      "file_extension": ".py",
      "mimetype": "text/x-python",
      "name": "python",
      "nbconvert_exporter": "python",
      "pygments_lexer": "ipython3",
      "version": "3.8"
    }
  },
  "nbformat_minor": 4,
  "nbformat": 4,
  "cells": [
    {
      "cell_type": "markdown",
      "source": "# Tools for Data Science Course by IBM Notebook",
      "metadata": {}
    },
    {
      "cell_type": "markdown",
      "source": "## Introduction\nIn this notebook, we will cover some fundamental aspects of data science, including languages, libraries, and tools. We will also perform some basic arithmetic operations and conversions.\n",
      "metadata": {}
    },
    {
      "cell_type": "markdown",
      "source": "## Data Science Languages\n- Python\n- R\n- SQL\n- Julia\n- Scala\n- JavaScript",
      "metadata": {}
    },
    {
      "cell_type": "markdown",
      "source": "## Data Science Libraries\n\n### Python Libraries\n- NumPy\n- Pandas\n- Scikit-learn\n- TensorFlow\n- Keras\n- Matplotlib\n- Seaborn\n- PyTorch\n\n### R Libraries\n- ggplot2\n- dplyr\n- tidyr\n- caret\n- randomForest\n- xgboost\n- shiny\n- lubridate\n",
      "metadata": {}
    },
    {
      "cell_type": "markdown",
      "source": "## Data Science Tools\n\n- Jupyter\n- GitHub\n- RStudio\n- Apache Spark\n- Tableau\n- Docker\n- Hadoop\n- AWS\n- All IBM Suite for DataScience propouses",
      "metadata": {}
    },
    {
      "cell_type": "markdown",
      "source": "## Arithmetic Expression Examples\n\nHere we will perform basic arithmetic operations such as addition and multiplication.",
      "metadata": {}
    },
    {
      "cell_type": "code",
      "source": "# Multiplying and adding numbers\na = 5\nb = 10\nc = a * b\nd = a + b\nc, d\n",
      "metadata": {
        "trusted": true
      },
      "outputs": [
        {
          "execution_count": 5,
          "output_type": "execute_result",
          "data": {
            "text/plain": "(50, 15)"
          },
          "metadata": {}
        }
      ],
      "execution_count": 5
    },
    {
      "cell_type": "code",
      "source": "# Convert minutes to hours\ndef minutes_to_hours(minutes):\n    return minutes / 60\n\nminutes = 120\nhours = minutes_to_hours(minutes)\nhours\n",
      "metadata": {
        "trusted": true
      },
      "outputs": [
        {
          "execution_count": 6,
          "output_type": "execute_result",
          "data": {
            "text/plain": "2.0"
          },
          "metadata": {}
        }
      ],
      "execution_count": 6
    },
    {
      "cell_type": "markdown",
      "source": "## Objectives\n- Gain proficiency in essential Data Science tools.\n- Develop hands-on skills with Jupyter Notebooks, RStudio, and GitHub.\n- Learn how to create and share Jupyter Notebooks.\n- Understand different programming languages used in Data Science.\n- Explore libraries, APIs, datasets, and machine learning models.\n- IBM Watson Studio for additional learning opportunities.",
      "metadata": {}
    },
    {
      "cell_type": "markdown",
      "source": "Author: Sergio Andrés Díaz Vera",
      "metadata": {}
    },
    {
      "cell_type": "code",
      "source": "",
      "metadata": {
        "trusted": true
      },
      "outputs": [],
      "execution_count": null
    }
  ]
}